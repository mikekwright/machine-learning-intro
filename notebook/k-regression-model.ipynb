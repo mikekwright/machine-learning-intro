{
 "cells": [
  {
   "cell_type": "markdown",
   "metadata": {
    "collapsed": true
   },
   "source": [
    "## Lets Create a Price Adjuster\n",
    "\n",
    "So, we have an idea, to simplify the work required to find nearby rentals that are\n",
    "similar to the new rentals that I am adding and attempt to create a price calculator\n",
    "that will provide me with the best expected price from those results.   \n",
    "\n",
    "With that in mind lets start the process.  "
   ]
  },
  {
   "cell_type": "markdown",
   "metadata": {},
   "source": [
    "### Setting up\n",
    "\n",
    "So the first thing that we are going to do is setup our imports, so that we have all the tools\n",
    "we are going to work with loaded (don't need to load later)"
   ]
  },
  {
   "cell_type": "code",
   "execution_count": 1,
   "metadata": {
    "collapsed": true
   },
   "outputs": [],
   "source": [
    "import pandas as pd\n",
    "import numpy as np\n",
    "\n",
    "from pprint import pprint\n",
    "\n",
    "pd.options.display.max_rows = 4000\n",
    "pd.options.mode.chained_assignment = None"
   ]
  },
  {
   "cell_type": "markdown",
   "metadata": {},
   "source": [
    "### First Analyze the Data\n",
    "\n",
    "So to start lets look over the data that we have received, first we will\n",
    "need to load the data so that we can manipulate it later. "
   ]
  },
  {
   "cell_type": "code",
   "execution_count": 2,
   "metadata": {
    "collapsed": true
   },
   "outputs": [],
   "source": [
    "data = pd.read_csv('../data/listing.csv')"
   ]
  },
  {
   "cell_type": "markdown",
   "metadata": {},
   "source": [
    "At this point lets do a quick check of the data for row count and even first row to sample the data.  "
   ]
  },
  {
   "cell_type": "code",
   "execution_count": 3,
   "metadata": {},
   "outputs": [
    {
     "name": "stdout",
     "output_type": "stream",
     "text": [
      "Row Count: 2505\n",
      "--------------------\n",
      "id                                                                           12622842\n",
      "listing_url                                     https://www.airbnb.com/rooms/12622842\n",
      "scrape_id                                                              20160516142622\n",
      "last_searched                                                              2016-05-16\n",
      "last_scraped                                                               2016-05-17\n",
      "name                                              Single Bed in a Cozy Denver Home!!!\n",
      "summary                             My house is minutes away from downtown Denver ...\n",
      "space                               In this cozy and simple room there is a twin b...\n",
      "description                         My house is minutes away from downtown Denver ...\n",
      "experiences_offered                                                              none\n",
      "neighborhood_overview               Denver is quite the city with many places wort...\n",
      "notes                               There are a couple of chairs on the front porc...\n",
      "transit                             Uber , Lyft, and GoCar are fast, inexpensive w...\n",
      "thumbnail_url                       https://a2.muscache.com/im/pictures/ce3df282-8...\n",
      "medium_url                          https://a2.muscache.com/im/pictures/ce3df282-8...\n",
      "picture_url                         https://a2.muscache.com/im/pictures/ce3df282-8...\n",
      "xl_picture_url                      https://a2.muscache.com/im/pictures/ce3df282-8...\n",
      "host_id                                                                      37425718\n",
      "host_url                                   https://www.airbnb.com/users/show/37425718\n",
      "host_name                                                                       Manda\n",
      "host_since                                                                 2015-07-03\n",
      "host_location                                         Denver, Colorado, United States\n",
      "host_about                                                                        NaN\n",
      "host_response_time                                                 within a few hours\n",
      "host_response_rate                                                               100%\n",
      "host_acceptance_rate                                                              96%\n",
      "host_is_superhost                                                                   f\n",
      "host_thumbnail_url                  https://a2.muscache.com/im/pictures/0b65682a-4...\n",
      "host_picture_url                    https://a2.muscache.com/im/pictures/0b65682a-4...\n",
      "host_neighbourhood                                                       Chaffee Park\n",
      "host_listings_count                                                                 3\n",
      "host_total_listings_count                                                           3\n",
      "host_verifications                   ['email', 'phone', 'facebook', 'reviews', 'kba']\n",
      "host_has_profile_pic                                                                t\n",
      "host_identity_verified                                                              t\n",
      "street                              West Burlington Place, Denver, CO 80221, Unite...\n",
      "neighbourhood                                                            Chaffee Park\n",
      "neighbourhood_cleansed                                                   Chaffee Park\n",
      "city                                                                           Denver\n",
      "state                                                                              CO\n",
      "zipcode                                                                         80221\n",
      "market                                                                         Denver\n",
      "smart_location                                                             Denver, CO\n",
      "country_code                                                                       US\n",
      "country                                                                 United States\n",
      "latitude                                                                      39.7908\n",
      "longitude                                                                    -105.009\n",
      "is_location_exact                                                                   t\n",
      "property_type                                                                   House\n",
      "room_type                                                                Private room\n",
      "accommodates                                                                        1\n",
      "bathrooms                                                                           1\n",
      "bedrooms                                                                            1\n",
      "beds                                                                                1\n",
      "bed_type                                                                     Real Bed\n",
      "amenities                           {TV,\"Wireless Internet\",\"Air Conditioning\",Kit...\n",
      "square_feet                                                                       NaN\n",
      "price                                                                          $35.00\n",
      "weekly_price                                                                      NaN\n",
      "monthly_price                                                                     NaN\n",
      "security_deposit                                                                  NaN\n",
      "cleaning_fee                                                                      NaN\n",
      "guests_included                                                                     1\n",
      "extra_people                                                                    $0.00\n",
      "minimum_nights                                                                      2\n",
      "maximum_nights                                                                   1125\n",
      "calendar_updated                                                                today\n",
      "has_availability                                                                  NaN\n",
      "availability_30                                                                    10\n",
      "availability_60                                                                    40\n",
      "availability_90                                                                    45\n",
      "availability_365                                                                   45\n",
      "calendar_last_scraped                                                      2016-05-17\n",
      "number_of_reviews                                                                   5\n",
      "first_review                                                               2016-04-26\n",
      "last_review                                                                2016-05-15\n",
      "review_scores_rating                                                              100\n",
      "review_scores_accuracy                                                             10\n",
      "review_scores_cleanliness                                                          10\n",
      "review_scores_checkin                                                              10\n",
      "review_scores_communication                                                        10\n",
      "review_scores_location                                                              9\n",
      "review_scores_value                                                                10\n",
      "requires_license                                                                    f\n",
      "license                                                                           NaN\n",
      "jurisdiction_names                                                                NaN\n",
      "instant_bookable                                                                    f\n",
      "cancellation_policy                                                          moderate\n",
      "require_guest_profile_picture                                                       f\n",
      "require_guest_phone_verification                                                    f\n",
      "region_id                                                                          31\n",
      "region_name                                                                    Denver\n",
      "region_parent_id                                                                    8\n",
      "region_parent_name                                                           Colorado\n",
      "calculated_host_listings_count                                                      3\n",
      "reviews_per_month                                                                   5\n",
      "Name: 0, dtype: object\n"
     ]
    }
   ],
   "source": [
    "print('Row Count: {}'.format(len(data)))\n",
    "print('-'*20)\n",
    "print(data.iloc[0])"
   ]
  },
  {
   "cell_type": "markdown",
   "metadata": {},
   "source": [
    "So the column that we are trying to determine for future entries is the price column.  Knowing that\n",
    "we need to determine which other columns we can use to create features.  \n",
    "\n",
    "Since all modeling requires that the data be represented as a numeric value, and since we are limited\n",
    "on time, we are going to focus only on columns that already have a defined numeric representation.  \n",
    "\n",
    "So we are going to ignore columns that are:  \n",
    "\n",
    "* Text\n",
    " * URL\n",
    " * Short/Long Descriptions\n",
    "* Date\n",
    "* Lat/Long"
   ]
  },
  {
   "cell_type": "markdown",
   "metadata": {},
   "source": [
    "That leaves use with a number of columns still, but for our first attempt lets just use a few columns:  \n",
    "\n",
    "* bathrooms\n",
    "* bedrooms\n",
    "* beds\n",
    "* accommodates\n",
    "* price"
   ]
  },
  {
   "cell_type": "markdown",
   "metadata": {},
   "source": [
    "---\n",
    "\n",
    "#### Feature Engineering\n",
    "\n",
    "At this point we are going to look over our features and to possibly engineer them\n",
    "to work in our system.  \n",
    "\n",
    "Lets start by just printing out the types of all the selected columns.  "
   ]
  },
  {
   "cell_type": "code",
   "execution_count": 4,
   "metadata": {},
   "outputs": [
    {
     "name": "stdout",
     "output_type": "stream",
     "text": [
      "bathrooms       float64\n",
      "bedrooms        float64\n",
      "beds            float64\n",
      "accommodates    float64\n",
      "price            object\n",
      "dtype: object\n"
     ]
    }
   ],
   "source": [
    "columns = ['bathrooms', 'bedrooms', 'beds', 'accommodates', 'price']\n",
    "data = data.dropna(axis=0, how='any', subset=columns)\n",
    "\n",
    "subset = data[columns]\n",
    "pprint(subset.dtypes)"
   ]
  },
  {
   "cell_type": "markdown",
   "metadata": {
    "collapsed": true
   },
   "source": [
    "So looking over the columns, it seems that the price column is the only one that is not already\n",
    "in a numeric type, so lets start by looking at the price value in the first 10 rows to determine\n",
    "what the data looks like.  "
   ]
  },
  {
   "cell_type": "code",
   "execution_count": 5,
   "metadata": {},
   "outputs": [
    {
     "name": "stdout",
     "output_type": "stream",
     "text": [
      "0     $35.00\n",
      "1    $129.00\n",
      "2     $99.00\n",
      "3     $70.00\n",
      "4     $50.00\n",
      "Name: price, dtype: object\n"
     ]
    }
   ],
   "source": [
    "print(subset['price'][:5])"
   ]
  },
  {
   "cell_type": "markdown",
   "metadata": {},
   "source": [
    "Ok, so it looks like it is formatted with a `$` in front, so lets convert the column value and\n",
    "translate it to a numeric type.  "
   ]
  },
  {
   "cell_type": "code",
   "execution_count": 6,
   "metadata": {},
   "outputs": [
    {
     "name": "stdout",
     "output_type": "stream",
     "text": [
      "0     35.0\n",
      "1    129.0\n",
      "2     99.0\n",
      "3     70.0\n",
      "4     50.0\n",
      "Name: price, dtype: float64\n",
      "bathrooms       float64\n",
      "bedrooms        float64\n",
      "beds            float64\n",
      "accommodates    float64\n",
      "price           float64\n",
      "dtype: object\n"
     ]
    }
   ],
   "source": [
    "data['price'] = data['price'].str.replace('$', '')\n",
    "data['price'] = data['price'].str.replace(',', '')\n",
    "data['price'] = data['price'].astype(float)\n",
    "\n",
    "subset = data[columns]\n",
    "print(subset['price'][:5])\n",
    "print(subset.dtypes)"
   ]
  },
  {
   "cell_type": "markdown",
   "metadata": {},
   "source": [
    "---\n",
    "\n",
    "### Modeling\n",
    "\n",
    "Alright so at this point we have some data to work with and have it formatted in a fashion that we\n",
    "can start creating some models.  "
   ]
  },
  {
   "cell_type": "markdown",
   "metadata": {},
   "source": [
    "For our first model we are going to go with a simple regression model using **K-Nearest Neighbors**\n",
    "\n",
    "This algorithm simply takes the supplied feature vector and finds the _k_ closest examples to the\n",
    "selected vector (nearest neighbors).  In the case of regression it will take the values from each\n",
    "of the _k_ neighbors and calculate the average.  \n",
    "\n",
    "For our setup we are going to use the Euclidean Distance to determine how closely related\n",
    "two vectors are.   "
   ]
  },
  {
   "cell_type": "markdown",
   "metadata": {},
   "source": [
    "#### Euclidean Formula\n",
    "\n",
    "The formula is defined below.  \n",
    "\n",
    "* p - current vector\n",
    "* q - comparing vector\n",
    "\n",
    "\\begin{equation*}\n",
    "distance = \\sqrt{(p_1-q_1)^2 + (p_2-q_2)^2 + \\cdots + (p_n-q_n)^2}\n",
    "\\end{equation*}\n",
    "\n",
    "or shorter form\n",
    "\n",
    "\\begin{equation*}\n",
    "distance = \\sqrt{\\sum_{i=1}^{n}(p_i-q_i)^2}\n",
    "\\end{equation*}"
   ]
  },
  {
   "cell_type": "markdown",
   "metadata": {},
   "source": [
    "So now lets go through an example of how we can use this to calculate the distance.  \n",
    "\n",
    "In this example we are going to use only two of the features (bathrooms, bedrooms) and compare\n",
    "the distance for the first two rows.  "
   ]
  },
  {
   "cell_type": "code",
   "execution_count": 7,
   "metadata": {},
   "outputs": [
    {
     "name": "stdout",
     "output_type": "stream",
     "text": [
      "p\n",
      "--------------------\n",
      "bathrooms    1.0\n",
      "bedrooms     1.0\n",
      "Name: 0, dtype: float64\n",
      "q\n",
      "--------------------\n",
      "bathrooms    1.0\n",
      "bedrooms     3.0\n",
      "Name: 1, dtype: float64\n"
     ]
    }
   ],
   "source": [
    "features = ['bathrooms', 'bedrooms']\n",
    "p = subset[features].iloc[0]\n",
    "q = subset[features].iloc[1]\n",
    "print('p')\n",
    "print('-'*20)\n",
    "print(p)\n",
    "print('q')\n",
    "print('-'*20)\n",
    "print(q)"
   ]
  },
  {
   "cell_type": "code",
   "execution_count": 8,
   "metadata": {},
   "outputs": [
    {
     "name": "stdout",
     "output_type": "stream",
     "text": [
      "2.0\n"
     ]
    }
   ],
   "source": [
    "distance = np.sqrt(np.sum(np.square(p-q)))\n",
    "print(distance)"
   ]
  },
  {
   "cell_type": "markdown",
   "metadata": {},
   "source": [
    "So lets check our math to make sure this is correct.  \n",
    "\n",
    "\\begin{equation*}\n",
    "2.0 = \\sqrt{(1-1)^2 + (1-3)^2}\n",
    "\\end{equation*}\n",
    "\n",
    "Looks good to me, this means that the distance between the first two entries is 2.0.  However, there is\n",
    "problem with using the raw values when calculating the distance, features with larger values will dwarf\n",
    "features with smaller values.  So lets start by normalizing our data. "
   ]
  },
  {
   "cell_type": "markdown",
   "metadata": {},
   "source": [
    "#### Normalizing\n",
    "\n",
    "To normalize the data we want to convert it in such as way that the distance difference for bathrooms\n",
    "will have a similar effect as the distance difference for bedrooms.  \n",
    "\n",
    "To accomplish this we will take each of our entries and convert them to be a standard normalized distribution\n",
    "which basically states that the mean will be treated as a 0 and one standard deviation away is (1, -1).  "
   ]
  },
  {
   "cell_type": "code",
   "execution_count": 9,
   "metadata": {},
   "outputs": [
    {
     "data": {
      "text/html": [
       "<div>\n",
       "<style>\n",
       "    .dataframe thead tr:only-child th {\n",
       "        text-align: right;\n",
       "    }\n",
       "\n",
       "    .dataframe thead th {\n",
       "        text-align: left;\n",
       "    }\n",
       "\n",
       "    .dataframe tbody tr th {\n",
       "        vertical-align: top;\n",
       "    }\n",
       "</style>\n",
       "<table border=\"1\" class=\"dataframe\">\n",
       "  <thead>\n",
       "    <tr style=\"text-align: right;\">\n",
       "      <th></th>\n",
       "      <th>bathrooms</th>\n",
       "      <th>bedrooms</th>\n",
       "      <th>beds</th>\n",
       "      <th>accommodates</th>\n",
       "      <th>price</th>\n",
       "    </tr>\n",
       "  </thead>\n",
       "  <tbody>\n",
       "    <tr>\n",
       "      <th>0</th>\n",
       "      <td>-0.559854</td>\n",
       "      <td>-0.542877</td>\n",
       "      <td>-0.653516</td>\n",
       "      <td>-1.174870</td>\n",
       "      <td>35.0</td>\n",
       "    </tr>\n",
       "    <tr>\n",
       "      <th>1</th>\n",
       "      <td>-0.559854</td>\n",
       "      <td>1.608295</td>\n",
       "      <td>0.056624</td>\n",
       "      <td>0.582830</td>\n",
       "      <td>129.0</td>\n",
       "    </tr>\n",
       "    <tr>\n",
       "      <th>2</th>\n",
       "      <td>-0.559854</td>\n",
       "      <td>-0.542877</td>\n",
       "      <td>-0.653516</td>\n",
       "      <td>-0.735445</td>\n",
       "      <td>99.0</td>\n",
       "    </tr>\n",
       "    <tr>\n",
       "      <th>3</th>\n",
       "      <td>-0.559854</td>\n",
       "      <td>-0.542877</td>\n",
       "      <td>0.056624</td>\n",
       "      <td>-0.296020</td>\n",
       "      <td>70.0</td>\n",
       "    </tr>\n",
       "    <tr>\n",
       "      <th>4</th>\n",
       "      <td>-0.559854</td>\n",
       "      <td>-0.542877</td>\n",
       "      <td>-0.653516</td>\n",
       "      <td>-0.735445</td>\n",
       "      <td>50.0</td>\n",
       "    </tr>\n",
       "  </tbody>\n",
       "</table>\n",
       "</div>"
      ],
      "text/plain": [
       "   bathrooms  bedrooms      beds  accommodates  price\n",
       "0  -0.559854 -0.542877 -0.653516     -1.174870   35.0\n",
       "1  -0.559854  1.608295  0.056624      0.582830  129.0\n",
       "2  -0.559854 -0.542877 -0.653516     -0.735445   99.0\n",
       "3  -0.559854 -0.542877  0.056624     -0.296020   70.0\n",
       "4  -0.559854 -0.542877 -0.653516     -0.735445   50.0"
      ]
     },
     "execution_count": 9,
     "metadata": {},
     "output_type": "execute_result"
    }
   ],
   "source": [
    "def normalize(ds):\n",
    "    original_price = ds['price']\n",
    "    ds = (ds - ds.mean()) / ds.std()\n",
    "    ds['price'] = original_price\n",
    "    return ds\n",
    "    \n",
    "subset = normalize(subset)\n",
    "subset.head(5)"
   ]
  },
  {
   "cell_type": "markdown",
   "metadata": {},
   "source": [
    "Lets go ahead and calculate the distance between our selected entry and the rest of the dataset.  \n",
    "\n",
    "*Note*: It is import to note that when running the comparision of one entry to another we must\n",
    "remove the entry for the check set, otherwise we could put ourselves into a situation where\n",
    "the nearest neighbor could be itself, and in a scenario where `k=1` you would get a perfect \n",
    "solution that doesn't predict anything."
   ]
  },
  {
   "cell_type": "code",
   "execution_count": 10,
   "metadata": {},
   "outputs": [
    {
     "name": "stdout",
     "output_type": "stream",
     "text": [
      "0.000000    1264\n",
      "1.075586     343\n",
      "1.832630     179\n",
      "0.741897     110\n",
      "2.613272      96\n",
      "Name: distance, dtype: int64\n"
     ]
    }
   ],
   "source": [
    "p = subset.iloc[0]\n",
    "subset = subset[1:]\n",
    "subset['distance'] = subset[features].apply(lambda q: np.sqrt(np.sum(np.square(p[features]-q))), axis=1)\n",
    "print(subset['distance'].value_counts().head(5))"
   ]
  },
  {
   "cell_type": "markdown",
   "metadata": {},
   "source": [
    "So it looks like we actually have 1264 neighbors... that are the closest (as close as possible)  \n",
    "\n",
    "Now lets select the top _k_ rows (in this case lets go with the 5 closest neighbors). "
   ]
  },
  {
   "cell_type": "code",
   "execution_count": 11,
   "metadata": {},
   "outputs": [
    {
     "data": {
      "text/html": [
       "<div>\n",
       "<style>\n",
       "    .dataframe thead tr:only-child th {\n",
       "        text-align: right;\n",
       "    }\n",
       "\n",
       "    .dataframe thead th {\n",
       "        text-align: left;\n",
       "    }\n",
       "\n",
       "    .dataframe tbody tr th {\n",
       "        vertical-align: top;\n",
       "    }\n",
       "</style>\n",
       "<table border=\"1\" class=\"dataframe\">\n",
       "  <thead>\n",
       "    <tr style=\"text-align: right;\">\n",
       "      <th></th>\n",
       "      <th>bathrooms</th>\n",
       "      <th>bedrooms</th>\n",
       "      <th>beds</th>\n",
       "      <th>accommodates</th>\n",
       "      <th>price</th>\n",
       "      <th>distance</th>\n",
       "    </tr>\n",
       "  </thead>\n",
       "  <tbody>\n",
       "    <tr>\n",
       "      <th>2</th>\n",
       "      <td>-0.559854</td>\n",
       "      <td>-0.542877</td>\n",
       "      <td>-0.653516</td>\n",
       "      <td>-0.735445</td>\n",
       "      <td>99.0</td>\n",
       "      <td>0.0</td>\n",
       "    </tr>\n",
       "    <tr>\n",
       "      <th>3</th>\n",
       "      <td>-0.559854</td>\n",
       "      <td>-0.542877</td>\n",
       "      <td>0.056624</td>\n",
       "      <td>-0.296020</td>\n",
       "      <td>70.0</td>\n",
       "      <td>0.0</td>\n",
       "    </tr>\n",
       "    <tr>\n",
       "      <th>4</th>\n",
       "      <td>-0.559854</td>\n",
       "      <td>-0.542877</td>\n",
       "      <td>-0.653516</td>\n",
       "      <td>-0.735445</td>\n",
       "      <td>50.0</td>\n",
       "      <td>0.0</td>\n",
       "    </tr>\n",
       "    <tr>\n",
       "      <th>5</th>\n",
       "      <td>-0.559854</td>\n",
       "      <td>-0.542877</td>\n",
       "      <td>-0.653516</td>\n",
       "      <td>-0.735445</td>\n",
       "      <td>45.0</td>\n",
       "      <td>0.0</td>\n",
       "    </tr>\n",
       "    <tr>\n",
       "      <th>9</th>\n",
       "      <td>-0.559854</td>\n",
       "      <td>-0.542877</td>\n",
       "      <td>-0.653516</td>\n",
       "      <td>-1.174870</td>\n",
       "      <td>100.0</td>\n",
       "      <td>0.0</td>\n",
       "    </tr>\n",
       "  </tbody>\n",
       "</table>\n",
       "</div>"
      ],
      "text/plain": [
       "   bathrooms  bedrooms      beds  accommodates  price  distance\n",
       "2  -0.559854 -0.542877 -0.653516     -0.735445   99.0       0.0\n",
       "3  -0.559854 -0.542877  0.056624     -0.296020   70.0       0.0\n",
       "4  -0.559854 -0.542877 -0.653516     -0.735445   50.0       0.0\n",
       "5  -0.559854 -0.542877 -0.653516     -0.735445   45.0       0.0\n",
       "9  -0.559854 -0.542877 -0.653516     -1.174870  100.0       0.0"
      ]
     },
     "execution_count": 11,
     "metadata": {},
     "output_type": "execute_result"
    }
   ],
   "source": [
    "np.random.seed(3)\n",
    "distances = subset[subset['distance'] == 0.0]\n",
    "neighbors = distances[:5]\n",
    "neighbors.head()"
   ]
  },
  {
   "cell_type": "markdown",
   "metadata": {},
   "source": [
    "Now that we have our neighbors we can compare the mean price of the neighbors\n",
    "and use that to determine how close we are to the actual price of our selected\n",
    "entry.  \n"
   ]
  },
  {
   "cell_type": "code",
   "execution_count": 12,
   "metadata": {
    "scrolled": true
   },
   "outputs": [
    {
     "name": "stdout",
     "output_type": "stream",
     "text": [
      "estimated price: 72.8\n",
      "actual price: 35.0\n"
     ]
    }
   ],
   "source": [
    "mean_price = neighbors['price'].mean()\n",
    "p_price = p['price']\n",
    "print(f'estimated price: {mean_price}')\n",
    "print(f'actual price: {p_price}')"
   ]
  },
  {
   "cell_type": "markdown",
   "metadata": {},
   "source": [
    "So we have an estimated price and an actual price that we generated using the 5 nearest neighbors.  \n",
    "Now we need to take these values and calculate the error that we introduced.  \n",
    "\n",
    "This can be done by using a function named the _Mean Absolute Error_ or (MAE).  The MAE function\n",
    "is defined below.  \n",
    "\n",
    "\\begin{equation*}\n",
    "error = \\dfrac{|g_1 - a_1| + |g_2 - a_2| + \\cdots + |g_n - a_n|}{n}\n",
    "\\end{equation*}\n",
    "\n",
    "or the simplier form\n",
    "\n",
    "\\begin{equation*}\n",
    "error = \\dfrac{\\sum_{i=1}^{n}{|(g_i - a_i)|}}{n}\n",
    "\\end{equation*}\n",
    "\n",
    "In our case n = 1 so we can simplify it to\n",
    "\n",
    "\\begin{equation*}\n",
    "error = |m - p|\n",
    "\\end{equation*}\n"
   ]
  },
  {
   "cell_type": "code",
   "execution_count": 13,
   "metadata": {},
   "outputs": [
    {
     "name": "stdout",
     "output_type": "stream",
     "text": [
      "37.8\n"
     ]
    }
   ],
   "source": [
    "error = np.abs(mean_price - p_price)\n",
    "print(error)"
   ]
  },
  {
   "cell_type": "markdown",
   "metadata": {},
   "source": [
    "Now there is one thing that we will want to do when calculating an error, we actually want values\n",
    "that are farther from the true value to be penalized more.  This can be accomplished using the\n",
    "MSE or _Mean Squared Error_.  \n",
    "\n",
    "\\begin{equation*}\n",
    "error = \\dfrac{\\sum_{i=1}^{n}{(g_i - a_i)^2}}{n}\n",
    "\\end{equation*}\n",
    "\n",
    "Of course this means that the value losses its representation and we can no longer consider it to \n",
    "represent a dollar, although that can be fixed just by taking the sqrt of the MSE: RMSE. \n",
    "\n",
    "\\begin{equation*}\n",
    "error = \\sqrt{\\dfrac{\\sum_{i=1}^{n}{(g_i - a_i)^2}}{n}}\n",
    "\\end{equation*}\n"
   ]
  },
  {
   "cell_type": "markdown",
   "metadata": {},
   "source": [
    "---\n",
    "\n",
    "#### Sklearn implementation\n",
    "\n",
    "At this point we have gone over our own version of the *K Nearest Neighbor* using the\n",
    "Euclidean distance formula and determined the error.  These algorithms and functions \n",
    "have actually all been created before and optimized by taking advantage of C.  \n",
    "So instead of re-inventing the wheel, lets see how we can quickly create a model \n",
    "using the sklearn framework.  "
   ]
  },
  {
   "cell_type": "code",
   "execution_count": 14,
   "metadata": {},
   "outputs": [
    {
     "name": "stdout",
     "output_type": "stream",
     "text": [
      "772.84 27.8 27.8\n"
     ]
    }
   ],
   "source": [
    "from sklearn.neighbors import KNeighborsRegressor\n",
    "from sklearn.metrics import mean_squared_error, mean_absolute_error\n",
    "\n",
    "subset = data[columns]\n",
    "subset = normalize(subset)\n",
    "p = subset.iloc[0]\n",
    "subset = subset[1:]\n",
    "\n",
    "model = KNeighborsRegressor(algorithm='brute', n_neighbors=5)\n",
    "# fit our model (calculate the distances), specify the value to use for regression\n",
    "model.fit(subset[features], subset['price'])\n",
    "# test our model out \n",
    "#  Note: we are reshaping the input so that as per sklearn's requirement for single samples\n",
    "predictions = model.predict(p[features].values.reshape(1, -1))\n",
    "mse = mean_squared_error([p['price']], predictions)\n",
    "mae = mean_absolute_error([p['price']], predictions)\n",
    "print(mse, np.sqrt(mse), mae)"
   ]
  },
  {
   "cell_type": "markdown",
   "metadata": {
    "collapsed": true
   },
   "source": [
    "Now this shows the MSE for a single sample, the top one.  What we really want to do is to \n",
    "take a subset of our data and split it into two groups, training data and test data.  \n",
    "\n",
    "The rule of thumb for separating this data is to use ~70% as the training data, and the\n",
    "other ~30% as the testing data.  \n",
    "\n",
    "So here let's create our train and testing data. "
   ]
  },
  {
   "cell_type": "code",
   "execution_count": 15,
   "metadata": {
    "collapsed": true
   },
   "outputs": [],
   "source": [
    "from sklearn.utils import shuffle\n",
    "from math import floor\n",
    "\n",
    "subset = data[columns]\n",
    "subset = normalize(subset)\n",
    "subset = shuffle(subset, random_state=27)\n",
    "\n",
    "data_size = len(subset)\n",
    "split_index = floor(data_size*.7)\n",
    "training_set = subset[:split_index]\n",
    "test_set = subset[split_index:]"
   ]
  },
  {
   "cell_type": "code",
   "execution_count": 16,
   "metadata": {},
   "outputs": [
    {
     "data": {
      "text/html": [
       "<div>\n",
       "<style>\n",
       "    .dataframe thead tr:only-child th {\n",
       "        text-align: right;\n",
       "    }\n",
       "\n",
       "    .dataframe thead th {\n",
       "        text-align: left;\n",
       "    }\n",
       "\n",
       "    .dataframe tbody tr th {\n",
       "        vertical-align: top;\n",
       "    }\n",
       "</style>\n",
       "<table border=\"1\" class=\"dataframe\">\n",
       "  <thead>\n",
       "    <tr style=\"text-align: right;\">\n",
       "      <th></th>\n",
       "      <th>bathrooms</th>\n",
       "      <th>bedrooms</th>\n",
       "      <th>beds</th>\n",
       "      <th>accommodates</th>\n",
       "      <th>price</th>\n",
       "    </tr>\n",
       "  </thead>\n",
       "  <tbody>\n",
       "    <tr>\n",
       "      <th>1310</th>\n",
       "      <td>0.182044</td>\n",
       "      <td>-0.542877</td>\n",
       "      <td>-0.653516</td>\n",
       "      <td>-0.735445</td>\n",
       "      <td>45.0</td>\n",
       "    </tr>\n",
       "    <tr>\n",
       "      <th>572</th>\n",
       "      <td>0.923941</td>\n",
       "      <td>0.532709</td>\n",
       "      <td>0.056624</td>\n",
       "      <td>-0.296020</td>\n",
       "      <td>600.0</td>\n",
       "    </tr>\n",
       "    <tr>\n",
       "      <th>477</th>\n",
       "      <td>-0.559854</td>\n",
       "      <td>-0.542877</td>\n",
       "      <td>-0.653516</td>\n",
       "      <td>-0.735445</td>\n",
       "      <td>70.0</td>\n",
       "    </tr>\n",
       "    <tr>\n",
       "      <th>1669</th>\n",
       "      <td>2.407736</td>\n",
       "      <td>1.608295</td>\n",
       "      <td>0.766765</td>\n",
       "      <td>1.901105</td>\n",
       "      <td>125.0</td>\n",
       "    </tr>\n",
       "    <tr>\n",
       "      <th>358</th>\n",
       "      <td>-0.559854</td>\n",
       "      <td>-0.542877</td>\n",
       "      <td>-0.653516</td>\n",
       "      <td>-1.174870</td>\n",
       "      <td>55.0</td>\n",
       "    </tr>\n",
       "  </tbody>\n",
       "</table>\n",
       "</div>"
      ],
      "text/plain": [
       "      bathrooms  bedrooms      beds  accommodates  price\n",
       "1310   0.182044 -0.542877 -0.653516     -0.735445   45.0\n",
       "572    0.923941  0.532709  0.056624     -0.296020  600.0\n",
       "477   -0.559854 -0.542877 -0.653516     -0.735445   70.0\n",
       "1669   2.407736  1.608295  0.766765      1.901105  125.0\n",
       "358   -0.559854 -0.542877 -0.653516     -1.174870   55.0"
      ]
     },
     "execution_count": 16,
     "metadata": {},
     "output_type": "execute_result"
    }
   ],
   "source": [
    "training_set.head(5)"
   ]
  },
  {
   "cell_type": "markdown",
   "metadata": {},
   "source": [
    "Now lets re-run our above code using the training_set and test_set.  "
   ]
  },
  {
   "cell_type": "code",
   "execution_count": 17,
   "metadata": {},
   "outputs": [
    {
     "name": "stdout",
     "output_type": "stream",
     "text": [
      "17549.4814795 132.474455951 56.9997260274\n"
     ]
    }
   ],
   "source": [
    "model = KNeighborsRegressor(algorithm='brute', n_neighbors=5)\n",
    "# fit our model (calculate the distances), specify the value to use for regression\n",
    "model.fit(training_set[features], training_set['price'])\n",
    "# test our model out \n",
    "predictions = model.predict(test_set[features])\n",
    "mse = mean_squared_error(test_set['price'], predictions)\n",
    "mae = mean_absolute_error(test_set['price'], predictions)\n",
    "print(mse, np.sqrt(mse), mae)"
   ]
  },
  {
   "cell_type": "code",
   "execution_count": 18,
   "metadata": {},
   "outputs": [
    {
     "data": {
      "image/png": "[encoded data removed]",
      "text/plain": [
       "<matplotlib.figure.Figure at 0x113d58a90>"
      ]
     },
     "metadata": {},
     "output_type": "display_data"
    }
   ],
   "source": [
    "import matplotlib.pyplot as plt\n",
    "\n",
    "plt.scatter(test_set['price'], predictions)\n",
    "plt.show()"
   ]
  },
  {
   "cell_type": "markdown",
   "metadata": {},
   "source": [
    "So at this point we have some outliers in our system, and these are throwing off our data quite a bit.  \n",
    "\n",
    "Instead of adjusting our algorithm to be more robust (using median in place of mean), we are just going\n",
    "to throw away those outliers (anything that is over $600 in price).  "
   ]
  },
  {
   "cell_type": "code",
   "execution_count": 19,
   "metadata": {
    "collapsed": true
   },
   "outputs": [],
   "source": [
    "data = data[data['price'] < 600]\n",
    "\n",
    "subset = data[columns]\n",
    "subset = normalize(subset)\n",
    "subset = shuffle(subset, random_state=27)\n",
    "\n",
    "data_size = len(subset)\n",
    "split_index = floor(data_size*.7)\n",
    "training_set = subset[:split_index]\n",
    "test_set = subset[split_index:]"
   ]
  },
  {
   "cell_type": "markdown",
   "metadata": {},
   "source": [
    "Lets try it again. "
   ]
  },
  {
   "cell_type": "code",
   "execution_count": 20,
   "metadata": {},
   "outputs": [
    {
     "name": "stdout",
     "output_type": "stream",
     "text": [
      "60.1703789886 41.2002773925\n"
     ]
    },
    {
     "data": {
      "image/png": "[encoded data removed]",
      "text/plain": [
       "<matplotlib.figure.Figure at 0x119be57b8>"
      ]
     },
     "metadata": {},
     "output_type": "display_data"
    }
   ],
   "source": [
    "model = KNeighborsRegressor(algorithm='brute', n_neighbors=5)\n",
    "# fit our model (calculate the distances), specify the value to use for regression\n",
    "model.fit(training_set[features], training_set['price'])\n",
    "# test our model out \n",
    "#  Note: we are reshaping the input so that as per sklearn's requirement for single samples\n",
    "predictions = model.predict(test_set[features])\n",
    "mse = mean_squared_error(test_set['price'], predictions)\n",
    "mae = mean_absolute_error(test_set['price'], predictions)\n",
    "print(np.sqrt(mse), mae)\n",
    "\n",
    "plt.scatter(test_set['price'], predictions)\n",
    "plt.show()"
   ]
  },
  {
   "cell_type": "markdown",
   "metadata": {},
   "source": [
    "So we have our error on our testing and training set, lets create a function that we can use\n",
    "to quickly run this. "
   ]
  },
  {
   "cell_type": "code",
   "execution_count": 21,
   "metadata": {
    "collapsed": true
   },
   "outputs": [],
   "source": [
    "def test_model(features, k):\n",
    "    model = KNeighborsRegressor(algorithm='brute', n_neighbors=k)\n",
    "    model.fit(training_set[features], training_set['price'])\n",
    "    predictions = model.predict(test_set[features])\n",
    "    mse = mean_squared_error(test_set['price'], predictions)\n",
    "    mae = mean_absolute_error(test_set['price'], predictions)\n",
    "    return np.sqrt(mse), mae"
   ]
  },
  {
   "cell_type": "markdown",
   "metadata": {},
   "source": [
    "At this point we have a way to adjust our features, as well as our single hyperparameter.  Lets\n",
    "try it out by using the same features that we have been using (bedrooms, bathrooms) but by adjusting\n",
    "the _k_ value (from 1 to 10).   "
   ]
  },
  {
   "cell_type": "code",
   "execution_count": 22,
   "metadata": {},
   "outputs": [
    {
     "name": "stdout",
     "output_type": "stream",
     "text": [
      "array([[ 97.26688766,  75.35506241],\n",
      "       [ 79.13483945,  61.36962552],\n",
      "       [ 74.90308939,  59.63569117],\n",
      "       [ 62.80644775,  44.46428571],\n",
      "       [ 60.17037899,  41.20027739],\n",
      "       [ 60.62114877,  41.783865  ],\n",
      "       [ 69.24683288,  54.13096889],\n",
      "       [ 66.02518528,  49.73040915],\n",
      "       [ 63.25360147,  46.48482047],\n",
      "       [ 63.13352251,  46.58585298]])\n"
     ]
    }
   ],
   "source": [
    "error_values = []\n",
    "k_range = list(range(1, 11))\n",
    "for k in k_range:\n",
    "    rmse, mae = test_model(features, k)\n",
    "    error_values.append((rmse, mae))\n",
    "error_values = np.array(error_values)\n",
    "pprint(error_values)"
   ]
  },
  {
   "cell_type": "markdown",
   "metadata": {},
   "source": [
    "While this might be a nice list... it isn't the best for us to quickly see how well our model is working\n",
    "with the different hyperparameter value, so lets try to visual the results.  "
   ]
  },
  {
   "cell_type": "code",
   "execution_count": 23,
   "metadata": {},
   "outputs": [
    {
     "data": {
      "image/png": "[encoded data removed]",
      "text/plain": [
       "<matplotlib.figure.Figure at 0x119dc6c18>"
      ]
     },
     "metadata": {},
     "output_type": "display_data"
    }
   ],
   "source": [
    "plt.scatter(k_range, error_values[:,0])\n",
    "plt.scatter(k_range, error_values[:,1])\n",
    "plt.show()"
   ]
  },
  {
   "cell_type": "markdown",
   "metadata": {},
   "source": [
    "Alright, so right now it looks like the data is still getting better when we get to the point of\n",
    "using `k=10`.  \n",
    "\n",
    "Lets try it with more k values, from 1 to 40 this time.  "
   ]
  },
  {
   "cell_type": "code",
   "execution_count": 24,
   "metadata": {},
   "outputs": [
    {
     "data": {
      "image/png": "[encoded data removed]",
      "text/plain": [
       "<matplotlib.figure.Figure at 0x119c96208>"
      ]
     },
     "metadata": {},
     "output_type": "display_data"
    }
   ],
   "source": [
    "error_values = []\n",
    "k_range = list(range(1, 41))\n",
    "for k in k_range:\n",
    "    error_values.append(test_model(features, k))\n",
    "\n",
    "error_values = np.array(error_values)\n",
    "plt.scatter(k_range, error_values[:,0])\n",
    "plt.scatter(k_range, error_values[:,1])\n",
    "plt.show()"
   ]
  },
  {
   "cell_type": "markdown",
   "metadata": {},
   "source": [
    "One thing that happens often with K Nearest Neighbors as it search the hyperparameter space is that you\n",
    "can get to a low point and then start going the wrong way, so you will want to watch out for that.  \n",
    "\n",
    "Lets go ahead and create another function, one that does a k value search but allows you to use different\n",
    "features and just returns the best k value and error it sees.  "
   ]
  },
  {
   "cell_type": "code",
   "execution_count": 25,
   "metadata": {
    "collapsed": true
   },
   "outputs": [],
   "source": [
    "def k_search(features, max_k=40):\n",
    "    min_result = None\n",
    "    for k in range(1, max_k+1):\n",
    "        error = test_model(features, k)\n",
    "        if min_result is None or error < min_result[1]:\n",
    "            min_result = k, error\n",
    "    return min_result"
   ]
  },
  {
   "cell_type": "markdown",
   "metadata": {},
   "source": [
    "Now lets run some experiments with a few different feature sets.  \n",
    "\n",
    "* `['bathrooms', 'bedrooms']`\n",
    "* `['accomodates']`\n",
    "* `['accomodates', 'beds']`\n",
    "* `['accomodates', 'bathrooms', 'bedrooms']`\n",
    "* `['accomodates', 'beds', 'bathrooms', 'bedrooms']`"
   ]
  },
  {
   "cell_type": "code",
   "execution_count": 26,
   "metadata": {},
   "outputs": [
    {
     "name": "stdout",
     "output_type": "stream",
     "text": [
      "[(20, (57.965175260632471, 40.970388349514565)),\n",
      " (37, (62.563088621724312, 42.644675188364509)),\n",
      " (26, (61.522351910256376, 41.094900245385681)),\n",
      " (26, (55.25625582675557, 37.770351008215087)),\n",
      " (9, (56.740793031793423, 39.981661272923411))]\n"
     ]
    }
   ],
   "source": [
    "feature_sets = [\n",
    "    ['bathrooms', 'bedrooms'],\n",
    "    ['accommodates'],\n",
    "    ['accommodates', 'beds'],\n",
    "    ['accommodates', 'bathrooms', 'bedrooms'],\n",
    "    ['accommodates', 'beds', 'bathrooms', 'bedrooms'],\n",
    "]\n",
    "\n",
    "error_values = []\n",
    "for fs in feature_sets:\n",
    "    error_values.append(k_search(fs))\n",
    "    \n",
    "pprint(error_values)"
   ]
  },
  {
   "cell_type": "markdown",
   "metadata": {
    "collapsed": true
   },
   "source": [
    "---\n",
    "\n",
    "### Other Models\n",
    "\n",
    "Now this is just an example of one model, there are others that we can use as well including,\n",
    "but not limited to:  \n",
    "\n",
    "* Linear Regression\n",
    "* SVM (Support Vector Machines)\n",
    "* Random Forest\n",
    "\n",
    "With that in mind, lets quickly create a model that uses the sklearn random forest to see \n",
    "how it compares to our K Nearest Neighbor.  "
   ]
  },
  {
   "cell_type": "code",
   "execution_count": 27,
   "metadata": {
    "collapsed": true
   },
   "outputs": [],
   "source": [
    "from sklearn.ensemble import RandomForestRegressor\n",
    "\n",
    "def forest_test(features, trees):\n",
    "    model = RandomForestRegressor(criterion='mse', n_estimators=trees)\n",
    "    model.fit(training_set[features], training_set['price'])\n",
    "    predictions = model.predict(test_set[features])\n",
    "    mse = mean_squared_error(test_set['price'], predictions)\n",
    "    mae = mean_absolute_error(test_set['price'], 'predictions')\n",
    "    return error\n",
    "\n",
    "def forest_search(features, max_trees=200):\n",
    "    min_result = None\n",
    "    for t in range(10, max_trees+1, 10):\n",
    "        error = test_model(features, t)\n",
    "        if min_result is None or error < min_result[1]:\n",
    "            min_result = t, error\n",
    "    return min_result"
   ]
  },
  {
   "cell_type": "code",
   "execution_count": 28,
   "metadata": {},
   "outputs": [
    {
     "name": "stdout",
     "output_type": "stream",
     "text": [
      "[(20, (57.965175260632471, 40.970388349514565)),\n",
      " (50, (62.310395679282429, 41.915533980582524)),\n",
      " (50, (61.889217777534704, 41.312094313453542)),\n",
      " (30, (55.671444381526065, 38.086592695330559)),\n",
      " (40, (56.980402675027861, 38.489147018030515))]\n"
     ]
    }
   ],
   "source": [
    "error_values = []\n",
    "for fs in feature_sets:\n",
    "    error_values.append(forest_search(fs))\n",
    "    \n",
    "pprint(error_values)"
   ]
  },
  {
   "cell_type": "markdown",
   "metadata": {},
   "source": [
    "## Conclusions\n",
    "\n",
    "So we have our first model.  Honestly it isn't the best model in the world, but we have learned some valuable\n",
    "stuff along the way.  \n",
    "\n",
    "To start lets take a look at a residual plot of our best case from above.  "
   ]
  },
  {
   "cell_type": "code",
   "execution_count": 29,
   "metadata": {},
   "outputs": [
    {
     "data": {
      "image/png": "[encoded data removed]",
      "text/plain": [
       "<matplotlib.figure.Figure at 0x113fabe48>"
      ]
     },
     "metadata": {},
     "output_type": "display_data"
    }
   ],
   "source": [
    "features = ['accommodates', 'bathrooms', 'bedrooms']\n",
    "model = KNeighborsRegressor(algorithm='brute', n_neighbors=26)\n",
    "model.fit(training_set[features], training_set['price'])\n",
    "predictions = model.predict(test_set[features])\n",
    "\n",
    "plt.scatter(test_set['price'], predictions - test_set['price'])\n",
    "plt.show()"
   ]
  },
  {
   "cell_type": "markdown",
   "metadata": {},
   "source": [
    "When looking at this graph we would like to see everything centered around 0, as this lets us know\n",
    "that we are not introducing much error in our predictions, however you can notice a downward trend\n",
    "where the more expensive the actual location is the more off we are in our predictions.  \n",
    "\n",
    "So what can we do to combat this?  \n",
    "\n",
    "1. We could use a different model, maybe K Nearest Neighbors isn't the best for us\n",
    "2. We could do some more feature engineering and see if we could find some more useful features?\n",
    " * What about creating an actual value for lat/long\n",
    " * Maybe create a new feature that is distance from Downtown Denver\n",
    " * Using the room_type or property_type as a categorical feature"
   ]
  },
  {
   "cell_type": "markdown",
   "metadata": {
    "collapsed": true
   },
   "source": [
    "---\n",
    "\n",
    "### Unsupervised Example\n",
    "\n",
    "This is just a quick example of how we can use t-SNE to get a visualization into our data and\n",
    "see if there are any oddities or just for fun.  "
   ]
  },
  {
   "cell_type": "code",
   "execution_count": 30,
   "metadata": {},
   "outputs": [
    {
     "name": "stdout",
     "output_type": "stream",
     "text": [
      "array([[ 15.33968095,   6.59290564],\n",
      "       [  0.15634294,  18.63302792],\n",
      "       [-19.13141235,   8.71534735],\n",
      "       [-18.41698633,  -3.75997272],\n",
      "       [  5.94565106,  28.04007291]])\n"
     ]
    }
   ],
   "source": [
    "from sklearn.manifold import TSNE\n",
    "\n",
    "data = data[columns]\n",
    "model = TSNE(n_components=2, random_state=0)\n",
    "points = model.fit_transform(data)\n",
    "\n",
    "pprint(points[:5])"
   ]
  },
  {
   "cell_type": "code",
   "execution_count": 31,
   "metadata": {},
   "outputs": [
    {
     "data": {
      "image/png": "[encoded data removed]",
      "text/plain": [
       "<matplotlib.figure.Figure at 0x113fabcf8>"
      ]
     },
     "metadata": {},
     "output_type": "display_data"
    }
   ],
   "source": [
    "points = np.array(points)\n",
    "X = points[:,0]\n",
    "Y = points[:,1]\n",
    "plt.scatter(X, Y)\n",
    "plt.show()"
   ]
  },
  {
   "cell_type": "code",
   "execution_count": null,
   "metadata": {
    "collapsed": true
   },
   "outputs": [],
   "source": []
  }
 ],
 "metadata": {
  "kernelspec": {
   "display_name": "Python 3",
   "language": "python",
   "name": "python3"
  },
  "language_info": {
   "codemirror_mode": {
    "name": "ipython",
    "version": 3
   },
   "file_extension": ".py",
   "mimetype": "text/x-python",
   "name": "python",
   "nbconvert_exporter": "python",
   "pygments_lexer": "ipython3",
   "version": "3.6.1"
  }
 },
 "nbformat": 4,
 "nbformat_minor": 2
}
