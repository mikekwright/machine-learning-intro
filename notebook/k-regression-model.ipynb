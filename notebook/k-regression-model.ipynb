{
 "cells": [
  {
   "cell_type": "markdown",
   "metadata": {
    "collapsed": true
   },
   "source": [
    "## Lets Create a Price Adjuster\n",
    "\n",
    "So, we have an idea, to simplify the work required to find nearby rentals that are\n",
    "similar to the new rentals that I am adding and attempt to create a price calculator\n",
    "that will provide me with the best expected price from those results.   \n",
    "\n",
    "With that in mind lets start the process.  "
   ]
  },
  {
   "cell_type": "markdown",
   "metadata": {},
   "source": [
    "### Setting up\n",
    "\n",
    "So the first thing that we are going to do is setup our imports, so that we have all the tools\n",
    "we are going to work with loaded (don't need to load later)"
   ]
  },
  {
   "cell_type": "code",
   "execution_count": 1,
   "metadata": {
    "collapsed": true
   },
   "outputs": [],
   "source": [
    "import pandas as pd\n",
    "import numpy as np\n",
    "\n",
    "from pprint import pprint\n",
    "\n",
    "pd.options.display.max_rows = 4000\n",
    "pd.options.mode.chained_assignment = None"
   ]
  },
  {
   "cell_type": "markdown",
   "metadata": {},
   "source": [
    "### First Analyze the Data\n",
    "\n",
    "So to start lets look over the data that we have received, first we will\n",
    "need to load the data so that we can manipulate it later. "
   ]
  },
  {
   "cell_type": "code",
   "execution_count": 2,
   "metadata": {
    "collapsed": true
   },
   "outputs": [],
   "source": [
    "data = pd.read_csv('../data/listing.csv')"
   ]
  },
  {
   "cell_type": "markdown",
   "metadata": {},
   "source": [
    "At this point lets do a quick check of the data for row count and even first row to sample the data.  "
   ]
  },
  {
   "cell_type": "code",
   "execution_count": 3,
   "metadata": {},
   "outputs": [
    {
     "name": "stdout",
     "output_type": "stream",
     "text": [
      "Row Count: 2505\n",
      "--------------------\n",
      "id                                                                           12622842\n",
      "listing_url                                     https://www.airbnb.com/rooms/12622842\n",
      "scrape_id                                                              20160516142622\n",
      "last_searched                                                              2016-05-16\n",
      "last_scraped                                                               2016-05-17\n",
      "name                                              Single Bed in a Cozy Denver Home!!!\n",
      "summary                             My house is minutes away from downtown Denver ...\n",
      "space                               In this cozy and simple room there is a twin b...\n",
      "description                         My house is minutes away from downtown Denver ...\n",
      "experiences_offered                                                              none\n",
      "neighborhood_overview               Denver is quite the city with many places wort...\n",
      "notes                               There are a couple of chairs on the front porc...\n",
      "transit                             Uber , Lyft, and GoCar are fast, inexpensive w...\n",
      "thumbnail_url                       https://a2.muscache.com/im/pictures/ce3df282-8...\n",
      "medium_url                          https://a2.muscache.com/im/pictures/ce3df282-8...\n",
      "picture_url                         https://a2.muscache.com/im/pictures/ce3df282-8...\n",
      "xl_picture_url                      https://a2.muscache.com/im/pictures/ce3df282-8...\n",
      "host_id                                                                      37425718\n",
      "host_url                                   https://www.airbnb.com/users/show/37425718\n",
      "host_name                                                                       Manda\n",
      "host_since                                                                 2015-07-03\n",
      "host_location                                         Denver, Colorado, United States\n",
      "host_about                                                                        NaN\n",
      "host_response_time                                                 within a few hours\n",
      "host_response_rate                                                               100%\n",
      "host_acceptance_rate                                                              96%\n",
      "host_is_superhost                                                                   f\n",
      "host_thumbnail_url                  https://a2.muscache.com/im/pictures/0b65682a-4...\n",
      "host_picture_url                    https://a2.muscache.com/im/pictures/0b65682a-4...\n",
      "host_neighbourhood                                                       Chaffee Park\n",
      "host_listings_count                                                                 3\n",
      "host_total_listings_count                                                           3\n",
      "host_verifications                   ['email', 'phone', 'facebook', 'reviews', 'kba']\n",
      "host_has_profile_pic                                                                t\n",
      "host_identity_verified                                                              t\n",
      "street                              West Burlington Place, Denver, CO 80221, Unite...\n",
      "neighbourhood                                                            Chaffee Park\n",
      "neighbourhood_cleansed                                                   Chaffee Park\n",
      "city                                                                           Denver\n",
      "state                                                                              CO\n",
      "zipcode                                                                         80221\n",
      "market                                                                         Denver\n",
      "smart_location                                                             Denver, CO\n",
      "country_code                                                                       US\n",
      "country                                                                 United States\n",
      "latitude                                                                      39.7908\n",
      "longitude                                                                    -105.009\n",
      "is_location_exact                                                                   t\n",
      "property_type                                                                   House\n",
      "room_type                                                                Private room\n",
      "accommodates                                                                        1\n",
      "bathrooms                                                                           1\n",
      "bedrooms                                                                            1\n",
      "beds                                                                                1\n",
      "bed_type                                                                     Real Bed\n",
      "amenities                           {TV,\"Wireless Internet\",\"Air Conditioning\",Kit...\n",
      "square_feet                                                                       NaN\n",
      "price                                                                          $35.00\n",
      "weekly_price                                                                      NaN\n",
      "monthly_price                                                                     NaN\n",
      "security_deposit                                                                  NaN\n",
      "cleaning_fee                                                                      NaN\n",
      "guests_included                                                                     1\n",
      "extra_people                                                                    $0.00\n",
      "minimum_nights                                                                      2\n",
      "maximum_nights                                                                   1125\n",
      "calendar_updated                                                                today\n",
      "has_availability                                                                  NaN\n",
      "availability_30                                                                    10\n",
      "availability_60                                                                    40\n",
      "availability_90                                                                    45\n",
      "availability_365                                                                   45\n",
      "calendar_last_scraped                                                      2016-05-17\n",
      "number_of_reviews                                                                   5\n",
      "first_review                                                               2016-04-26\n",
      "last_review                                                                2016-05-15\n",
      "review_scores_rating                                                              100\n",
      "review_scores_accuracy                                                             10\n",
      "review_scores_cleanliness                                                          10\n",
      "review_scores_checkin                                                              10\n",
      "review_scores_communication                                                        10\n",
      "review_scores_location                                                              9\n",
      "review_scores_value                                                                10\n",
      "requires_license                                                                    f\n",
      "license                                                                           NaN\n",
      "jurisdiction_names                                                                NaN\n",
      "instant_bookable                                                                    f\n",
      "cancellation_policy                                                          moderate\n",
      "require_guest_profile_picture                                                       f\n",
      "require_guest_phone_verification                                                    f\n",
      "region_id                                                                          31\n",
      "region_name                                                                    Denver\n",
      "region_parent_id                                                                    8\n",
      "region_parent_name                                                           Colorado\n",
      "calculated_host_listings_count                                                      3\n",
      "reviews_per_month                                                                   5\n",
      "Name: 0, dtype: object\n"
     ]
    }
   ],
   "source": [
    "print('Row Count: {}'.format(len(data)))\n",
    "print('-'*20)\n",
    "print(data.iloc[0])"
   ]
  },
  {
   "cell_type": "markdown",
   "metadata": {},
   "source": [
    "So the column that we are trying to determine for future entries is the price column.  Knowing that\n",
    "we need to determine which other columns we can use to create features.  \n",
    "\n",
    "Since all modeling requires that the data be represented as a numeric value, and since we are limited\n",
    "on time, we are going to focus only on columns that already have a defined numeric representation.  \n",
    "\n",
    "So we are going to ignore columns that are:  \n",
    "\n",
    "* Text\n",
    " * URL\n",
    " * Short/Long Descriptions\n",
    "* Date\n",
    "* Lat/Long"
   ]
  },
  {
   "cell_type": "markdown",
   "metadata": {},
   "source": [
    "That leaves use with a number of columns still, but for our first attempt lets just use a few columns:  \n",
    "\n",
    "* bathrooms\n",
    "* bedrooms\n",
    "* beds\n",
    "* accommodates\n",
    "* price"
   ]
  },
  {
   "cell_type": "code",
   "execution_count": 4,
   "metadata": {},
   "outputs": [
    {
     "name": "stdout",
     "output_type": "stream",
     "text": [
      "bathrooms       float64\n",
      "bedrooms        float64\n",
      "beds            float64\n",
      "accommodates    float64\n",
      "price            object\n",
      "dtype: object\n"
     ]
    }
   ],
   "source": [
    "columns = ['bathrooms', 'bedrooms', 'beds', 'accommodates', 'price']\n",
    "data.dropna(axis=0, how='any', subset=columns, inplace=True)\n",
    "\n",
    "subset = data[columns]\n",
    "pprint(subset.dtypes)"
   ]
  },
  {
   "cell_type": "markdown",
   "metadata": {
    "collapsed": true
   },
   "source": [
    "So looking over the columns, it seems that the price column is the only one that is not already\n",
    "in a numeric type, so lets start by looking at the price value in the first 10 rows to determine\n",
    "what the data looks like.  "
   ]
  },
  {
   "cell_type": "code",
   "execution_count": 5,
   "metadata": {},
   "outputs": [
    {
     "name": "stdout",
     "output_type": "stream",
     "text": [
      "0     $35.00\n",
      "1    $129.00\n",
      "2     $99.00\n",
      "3     $70.00\n",
      "4     $50.00\n",
      "Name: price, dtype: object\n"
     ]
    }
   ],
   "source": [
    "print(subset['price'][:5])"
   ]
  },
  {
   "cell_type": "markdown",
   "metadata": {},
   "source": [
    "Ok, so it looks like it is formatted with a `$` in front, so lets convert the column value and\n",
    "translate it to a numeric type.  "
   ]
  },
  {
   "cell_type": "code",
   "execution_count": 6,
   "metadata": {},
   "outputs": [
    {
     "name": "stdout",
     "output_type": "stream",
     "text": [
      "0     35.0\n",
      "1    129.0\n",
      "2     99.0\n",
      "3     70.0\n",
      "4     50.0\n",
      "Name: price, dtype: float64\n",
      "bathrooms       float64\n",
      "bedrooms        float64\n",
      "beds            float64\n",
      "accommodates    float64\n",
      "price           float64\n",
      "dtype: object\n"
     ]
    }
   ],
   "source": [
    "data['price'] = data['price'].str.replace('$', '')\n",
    "data['price'] = data['price'].str.replace(',', '')\n",
    "data['price'] = data['price'].astype(float)\n",
    "\n",
    "subset = data[columns]\n",
    "print(subset['price'][:5])\n",
    "print(subset.dtypes)"
   ]
  },
  {
   "cell_type": "markdown",
   "metadata": {},
   "source": [
    "---\n",
    "\n",
    "### Modeling\n",
    "\n",
    "Alright so at this point we have some data to work with and have it formatted in a fashion that we\n",
    "can start creating some models.  "
   ]
  },
  {
   "cell_type": "markdown",
   "metadata": {},
   "source": [
    "For our first model we are going to go with a simple regression model using **K-Nearest Neighbors**\n",
    "\n",
    "This algorithm simply takes the supplied feature vector and finds the _k_ closest examples to the\n",
    "selected vector (nearest neighbors).  In the case of regression it will take the values from each\n",
    "of the _k_ neighbors and calculate the average.  \n",
    "\n",
    "For our setup we are going to use the Euclidean Distance to determine how closely related\n",
    "two vectors are.   "
   ]
  },
  {
   "cell_type": "markdown",
   "metadata": {},
   "source": [
    "#### Euclidean Formula\n",
    "\n",
    "The formula is defined below.  \n",
    "\n",
    "p - current vector\n",
    "q - comparing vector\n",
    "\n",
    "\\begin{equation*}\n",
    "distance = \\sqrt{(p_1-q_1)^2 + (p_2-q_2)^2 + \\cdots + (p_n-q_n)^2}\n",
    "\\end{equation*}\n",
    "\n",
    "or shorter form\n",
    "\n",
    "\\begin{equation*}\n",
    "distance = \\sqrt{\\sum_{i=1}^{n}(p_i-q_i)^2}\n",
    "\\end{equation*}"
   ]
  },
  {
   "cell_type": "markdown",
   "metadata": {},
   "source": [
    "So now lets go through an example of how we can use this to calculate the distance.  \n",
    "\n",
    "In this example we are going to use only two of the features (bathrooms, bedrooms) and compare\n",
    "the distance for the first two rows.  "
   ]
  },
  {
   "cell_type": "code",
   "execution_count": 7,
   "metadata": {},
   "outputs": [
    {
     "name": "stdout",
     "output_type": "stream",
     "text": [
      "p\n",
      "--------------------\n",
      "bathrooms    1.0\n",
      "bedrooms     1.0\n",
      "Name: 0, dtype: float64\n",
      "q\n",
      "--------------------\n",
      "bathrooms    1.0\n",
      "bedrooms     3.0\n",
      "Name: 1, dtype: float64\n"
     ]
    }
   ],
   "source": [
    "features = ['bathrooms', 'bedrooms']\n",
    "p = subset[features].iloc[0]\n",
    "q = subset[features].iloc[1]\n",
    "print('p')\n",
    "print('-'*20)\n",
    "print(p)\n",
    "print('q')\n",
    "print('-'*20)\n",
    "print(q)"
   ]
  },
  {
   "cell_type": "code",
   "execution_count": 8,
   "metadata": {},
   "outputs": [
    {
     "name": "stdout",
     "output_type": "stream",
     "text": [
      "2.0\n"
     ]
    }
   ],
   "source": [
    "distance = np.sqrt(np.sum(np.square(p-q)))\n",
    "print(distance)"
   ]
  },
  {
   "cell_type": "markdown",
   "metadata": {},
   "source": [
    "So lets check our math to make sure this is correct.  \n",
    "\n",
    "\\begin{equation*}\n",
    "2.0 = \\sqrt{(1-1)^2 + (1-3)^2}\n",
    "\\end{equation*}\n",
    "\n",
    "Looks good to me, this means that the distance between the first two entries is 2.0.  However, there is\n",
    "problem with using the raw values when calculating the distance, features with larger values will dwarf\n",
    "features with smaller values.  So lets start by normalizing our data. "
   ]
  },
  {
   "cell_type": "markdown",
   "metadata": {},
   "source": [
    "#### Normalizing\n",
    "\n",
    "To normalize the data we want to convert it in such as way that the distance difference for bathrooms\n",
    "will have a similar effect as the distance difference for bedrooms.  \n",
    "\n",
    "To accomplish this we will take each of our entries and convert them to be a standard normalized distribution\n",
    "which basically states that the mean will be treated as a 0 and one standard deviation away is (1, -1).  "
   ]
  },
  {
   "cell_type": "code",
   "execution_count": 9,
   "metadata": {},
   "outputs": [
    {
     "data": {
      "text/html": [
       "<div>\n",
       "<style>\n",
       "    .dataframe thead tr:only-child th {\n",
       "        text-align: right;\n",
       "    }\n",
       "\n",
       "    .dataframe thead th {\n",
       "        text-align: left;\n",
       "    }\n",
       "\n",
       "    .dataframe tbody tr th {\n",
       "        vertical-align: top;\n",
       "    }\n",
       "</style>\n",
       "<table border=\"1\" class=\"dataframe\">\n",
       "  <thead>\n",
       "    <tr style=\"text-align: right;\">\n",
       "      <th></th>\n",
       "      <th>bathrooms</th>\n",
       "      <th>bedrooms</th>\n",
       "      <th>beds</th>\n",
       "      <th>accommodates</th>\n",
       "      <th>price</th>\n",
       "    </tr>\n",
       "  </thead>\n",
       "  <tbody>\n",
       "    <tr>\n",
       "      <th>0</th>\n",
       "      <td>-0.559854</td>\n",
       "      <td>-0.542877</td>\n",
       "      <td>-0.653516</td>\n",
       "      <td>-1.174870</td>\n",
       "      <td>35.0</td>\n",
       "    </tr>\n",
       "    <tr>\n",
       "      <th>1</th>\n",
       "      <td>-0.559854</td>\n",
       "      <td>1.608295</td>\n",
       "      <td>0.056624</td>\n",
       "      <td>0.582830</td>\n",
       "      <td>129.0</td>\n",
       "    </tr>\n",
       "    <tr>\n",
       "      <th>2</th>\n",
       "      <td>-0.559854</td>\n",
       "      <td>-0.542877</td>\n",
       "      <td>-0.653516</td>\n",
       "      <td>-0.735445</td>\n",
       "      <td>99.0</td>\n",
       "    </tr>\n",
       "    <tr>\n",
       "      <th>3</th>\n",
       "      <td>-0.559854</td>\n",
       "      <td>-0.542877</td>\n",
       "      <td>0.056624</td>\n",
       "      <td>-0.296020</td>\n",
       "      <td>70.0</td>\n",
       "    </tr>\n",
       "    <tr>\n",
       "      <th>4</th>\n",
       "      <td>-0.559854</td>\n",
       "      <td>-0.542877</td>\n",
       "      <td>-0.653516</td>\n",
       "      <td>-0.735445</td>\n",
       "      <td>50.0</td>\n",
       "    </tr>\n",
       "  </tbody>\n",
       "</table>\n",
       "</div>"
      ],
      "text/plain": [
       "   bathrooms  bedrooms      beds  accommodates  price\n",
       "0  -0.559854 -0.542877 -0.653516     -1.174870   35.0\n",
       "1  -0.559854  1.608295  0.056624      0.582830  129.0\n",
       "2  -0.559854 -0.542877 -0.653516     -0.735445   99.0\n",
       "3  -0.559854 -0.542877  0.056624     -0.296020   70.0\n",
       "4  -0.559854 -0.542877 -0.653516     -0.735445   50.0"
      ]
     },
     "execution_count": 9,
     "metadata": {},
     "output_type": "execute_result"
    }
   ],
   "source": [
    "def normalize(ds):\n",
    "    original_price = ds['price']\n",
    "    ds = (ds - ds.mean()) / ds.std()\n",
    "    ds['price'] = original_price\n",
    "    return ds\n",
    "    \n",
    "subset = normalize(subset)\n",
    "subset.head(5)"
   ]
  },
  {
   "cell_type": "markdown",
   "metadata": {},
   "source": [
    "Lets go ahead and calculate the distance between our selected entry and the rest of the dataset.  \n",
    "\n",
    "*Note*: It is import to note that when running the comparision of one entry to another we must\n",
    "remove the entry for the check set, otherwise we could put ourselves into a situation where\n",
    "the nearest neighbor could be itself, and in a scenario where `k=1` you would get a perfect \n",
    "solution that doesn't predict anything."
   ]
  },
  {
   "cell_type": "code",
   "execution_count": 10,
   "metadata": {},
   "outputs": [
    {
     "name": "stdout",
     "output_type": "stream",
     "text": [
      "0.000000    1264\n",
      "1.075586     343\n",
      "1.832630     179\n",
      "0.741897     110\n",
      "2.613272      96\n",
      "Name: distance, dtype: int64\n",
      "bathrooms        0.923941\n",
      "bedrooms        -0.542877\n",
      "beds             0.056624\n",
      "accommodates    -1.174870\n",
      "price           75.000000\n",
      "distance         1.483795\n",
      "Name: 2504, dtype: float64\n"
     ]
    }
   ],
   "source": [
    "p = subset.iloc[0]\n",
    "subset = subset[1:]\n",
    "subset['distance'] = subset[features].apply(lambda q: np.sqrt(np.sum(np.square(p[features]-q))), axis=1)\n",
    "print(subset['distance'].value_counts().head(5))\n",
    "print(subset.iloc[-1])"
   ]
  },
  {
   "cell_type": "markdown",
   "metadata": {},
   "source": [
    "So it looks like we actually have 1264 neighbors... that are the closest (as close as possible)\n",
    "and if we wanted to select _k_ of them, we would need to make sure that we are `unbiased` in our\n",
    "selection, so lets sort the distance values (and randomize them when they are close).  \n",
    "\n",
    "After doing that we can select the top _k_ rows (in this case lets go with the 5 closest neighbors). "
   ]
  },
  {
   "cell_type": "code",
   "execution_count": 11,
   "metadata": {},
   "outputs": [
    {
     "name": "stdout",
     "output_type": "stream",
     "text": [
      "bathrooms        -0.559854\n",
      "bedrooms         -1.618463\n",
      "beds              0.056624\n",
      "accommodates      0.143405\n",
      "price           179.000000\n",
      "distance          1.075586\n",
      "Name: 2159, dtype: float64\n"
     ]
    }
   ],
   "source": [
    "random_order = np.random.permutation(len(subset))\n",
    "subset = subset.loc[random_order]\n",
    "#subset.sort_values(['distance'], inplace=True)\n",
    "neighbors = subset[:5]\n",
    "print(subset.iloc[-1])"
   ]
  },
  {
   "cell_type": "markdown",
   "metadata": {},
   "source": [
    "Now that we have our neighbors we can compare the mean price of the neighbors\n",
    "and use that to determine how close we are to the actual price of our selected\n",
    "entry.  \n"
   ]
  },
  {
   "cell_type": "code",
   "execution_count": 12,
   "metadata": {
    "scrolled": true
   },
   "outputs": [
    {
     "name": "stdout",
     "output_type": "stream",
     "text": [
      "estimated price: 56.4\n",
      "actual price: 35.0\n"
     ]
    }
   ],
   "source": [
    "mean_price = neighbors['price'].mean()\n",
    "p_price = p['price']\n",
    "print(f'estimated price: {mean_price}')\n",
    "print(f'actual price: {p_price}')"
   ]
  },
  {
   "cell_type": "markdown",
   "metadata": {},
   "source": [
    "So we have an estimated price and an actual price that we generated using the 5 nearest neighbors.  \n",
    "Now we need to take these values and calculate the error that we introduced.  \n",
    "\n",
    "This can be done by using a function named the _Mean Absolute Error_ or (MAE).  The MAE function\n",
    "is defined below.  \n",
    "\n",
    "\\begin{equation*}\n",
    "error = \\dfrac{|g_1 - a_1| + |g_2 - a_2| + \\cdots + |g_n - a_n|}{n}\n",
    "\\end{equation*}\n",
    "\n",
    "or the simplier form\n",
    "\n",
    "\\begin{equation*}\n",
    "error = \\dfrac{\\sum_{i=1}^{n}{|(g_i - a_i)|}}{n}\n",
    "\\end{equation*}\n",
    "\n",
    "In our case n = 1 so we can simplify it to\n",
    "\n",
    "\\begin{equation*}\n",
    "error = |m - p|\n",
    "\\end{equation*}\n"
   ]
  },
  {
   "cell_type": "code",
   "execution_count": 13,
   "metadata": {},
   "outputs": [
    {
     "name": "stdout",
     "output_type": "stream",
     "text": [
      "21.4\n"
     ]
    }
   ],
   "source": [
    "error = np.abs(mean_price - p_price)\n",
    "print(error)"
   ]
  },
  {
   "cell_type": "markdown",
   "metadata": {},
   "source": [
    "Now there is one thing that we will want to do when calculating an error, we actually want values\n",
    "that are farther from the true value to be penalized more.  This can be accomplished using the\n",
    "MSE or _Mean Squared Error_.  \n",
    "\n",
    "\\begin{equation*}\n",
    "error = \\dfrac{\\sum_{i=1}^{n}{(g_i - a_i)^2}}{n}\n",
    "\\end{equation*}\n",
    "\n",
    "Of course this means that the value losses its representation and we can no longer consider it to \n",
    "represent a dollar, although that can be fixed just by taking the sqrt of the MSE: RMSE. \n",
    "\n",
    "\\begin{equation*}\n",
    "error = \\sqrt{\\dfrac{\\sum_{i=1}^{n}{(g_i - a_i)^2}}{n}}\n",
    "\\end{equation*}\n"
   ]
  },
  {
   "cell_type": "markdown",
   "metadata": {},
   "source": [
    "---\n",
    "\n",
    "#### Sklearn implementation\n",
    "\n",
    "At this point we have gone over our own version of the *K Nearest Neighbor* using the\n",
    "Euclidean distance formula and determined the error.  These algorithms and functions \n",
    "have actually all been created before and optimized by taking advantage of C.  \n",
    "So instead of re-inventing the wheel, lets see how we can quickly create a model \n",
    "using the sklearn framework.  "
   ]
  },
  {
   "cell_type": "code",
   "execution_count": 14,
   "metadata": {},
   "outputs": [
    {
     "name": "stdout",
     "output_type": "stream",
     "text": [
      "772.84\n"
     ]
    }
   ],
   "source": [
    "from sklearn.neighbors import KNeighborsRegressor\n",
    "from sklearn.metrics import mean_squared_error\n",
    "\n",
    "subset = data[columns]\n",
    "subset = normalize(subset)\n",
    "p = subset.iloc[0]\n",
    "subset = subset[1:]\n",
    "\n",
    "model = KNeighborsRegressor(algorithm='brute', n_neighbors=5)\n",
    "# fit our model (calculate the distances), specify the value to use for regression\n",
    "model.fit(subset[features], subset['price'])\n",
    "# test our model out \n",
    "#  Note: we are reshaping the input so that as per sklearn's requirement for single samples\n",
    "predictions = model.predict(p[features].values.reshape(1, -1))\n",
    "error = mean_squared_error([p['price']], predictions)\n",
    "print(error)"
   ]
  },
  {
   "cell_type": "markdown",
   "metadata": {
    "collapsed": true
   },
   "source": [
    "Now this shows the MSE for a single sample, the top one.  What we really want to do is to \n",
    "take a subset of our data and split it into two groups, training data and test data.  \n",
    "\n",
    "The rule of thumb for separating this data is to use ~70% as the training data, and the\n",
    "other ~30% as the testing data.  \n",
    "\n",
    "So here let's create our train and testing data. "
   ]
  },
  {
   "cell_type": "code",
   "execution_count": 15,
   "metadata": {
    "collapsed": true
   },
   "outputs": [],
   "source": [
    "from sklearn.utils import shuffle\n",
    "from math import floor\n",
    "\n",
    "subset = data[columns]\n",
    "subset = normalize(subset)\n",
    "subset = shuffle(subset)\n",
    "\n",
    "data_size = len(subset)\n",
    "split_index = floor(data_size*.7)\n",
    "training_set = subset[:split_index]\n",
    "test_set = subset[split_index:]"
   ]
  },
  {
   "cell_type": "code",
   "execution_count": 16,
   "metadata": {},
   "outputs": [
    {
     "data": {
      "text/html": [
       "<div>\n",
       "<style>\n",
       "    .dataframe thead tr:only-child th {\n",
       "        text-align: right;\n",
       "    }\n",
       "\n",
       "    .dataframe thead th {\n",
       "        text-align: left;\n",
       "    }\n",
       "\n",
       "    .dataframe tbody tr th {\n",
       "        vertical-align: top;\n",
       "    }\n",
       "</style>\n",
       "<table border=\"1\" class=\"dataframe\">\n",
       "  <thead>\n",
       "    <tr style=\"text-align: right;\">\n",
       "      <th></th>\n",
       "      <th>bathrooms</th>\n",
       "      <th>bedrooms</th>\n",
       "      <th>beds</th>\n",
       "      <th>accommodates</th>\n",
       "      <th>price</th>\n",
       "    </tr>\n",
       "  </thead>\n",
       "  <tbody>\n",
       "    <tr>\n",
       "      <th>920</th>\n",
       "      <td>-0.559854</td>\n",
       "      <td>-0.542877</td>\n",
       "      <td>0.766765</td>\n",
       "      <td>0.143405</td>\n",
       "      <td>56.0</td>\n",
       "    </tr>\n",
       "    <tr>\n",
       "      <th>1127</th>\n",
       "      <td>0.923941</td>\n",
       "      <td>-0.542877</td>\n",
       "      <td>-0.653516</td>\n",
       "      <td>-0.735445</td>\n",
       "      <td>45.0</td>\n",
       "    </tr>\n",
       "    <tr>\n",
       "      <th>1910</th>\n",
       "      <td>-0.559854</td>\n",
       "      <td>-0.542877</td>\n",
       "      <td>-0.653516</td>\n",
       "      <td>-0.735445</td>\n",
       "      <td>120.0</td>\n",
       "    </tr>\n",
       "    <tr>\n",
       "      <th>1007</th>\n",
       "      <td>-0.559854</td>\n",
       "      <td>-1.618463</td>\n",
       "      <td>-0.653516</td>\n",
       "      <td>-0.735445</td>\n",
       "      <td>95.0</td>\n",
       "    </tr>\n",
       "    <tr>\n",
       "      <th>1814</th>\n",
       "      <td>0.182044</td>\n",
       "      <td>0.532709</td>\n",
       "      <td>0.056624</td>\n",
       "      <td>0.143405</td>\n",
       "      <td>125.0</td>\n",
       "    </tr>\n",
       "  </tbody>\n",
       "</table>\n",
       "</div>"
      ],
      "text/plain": [
       "      bathrooms  bedrooms      beds  accommodates  price\n",
       "920   -0.559854 -0.542877  0.766765      0.143405   56.0\n",
       "1127   0.923941 -0.542877 -0.653516     -0.735445   45.0\n",
       "1910  -0.559854 -0.542877 -0.653516     -0.735445  120.0\n",
       "1007  -0.559854 -1.618463 -0.653516     -0.735445   95.0\n",
       "1814   0.182044  0.532709  0.056624      0.143405  125.0"
      ]
     },
     "execution_count": 16,
     "metadata": {},
     "output_type": "execute_result"
    }
   ],
   "source": [
    "training_set.head(5)"
   ]
  },
  {
   "cell_type": "markdown",
   "metadata": {},
   "source": [
    "Now lets re-run our above code using the training_set and test_set.  "
   ]
  },
  {
   "cell_type": "code",
   "execution_count": 17,
   "metadata": {},
   "outputs": [
    {
     "name": "stdout",
     "output_type": "stream",
     "text": [
      "18243.030137\n"
     ]
    }
   ],
   "source": [
    "model = KNeighborsRegressor(algorithm='brute', n_neighbors=5)\n",
    "# fit our model (calculate the distances), specify the value to use for regression\n",
    "model.fit(training_set[features], training_set['price'])\n",
    "# test our model out \n",
    "#  Note: we are reshaping the input so that as per sklearn's requirement for single samples\n",
    "predictions = model.predict(test_set[features])\n",
    "error = mean_squared_error(test_set['price'], predictions)\n",
    "print(error)"
   ]
  },
  {
   "cell_type": "markdown",
   "metadata": {},
   "source": [
    "So we have our error on our testing and training set, lets create a function that we can use\n",
    "to quickly run this. "
   ]
  },
  {
   "cell_type": "code",
   "execution_count": 18,
   "metadata": {
    "collapsed": true
   },
   "outputs": [],
   "source": [
    "def test_model(features, k):\n",
    "    model = KNeighborsRegressor(algorithm='brute', n_neighbors=k)\n",
    "    model.fit(training_set[features], training_set['price'])\n",
    "    predictions = model.predict(test_set[features])\n",
    "    error = mean_squared_error(test_set['price'], predictions)\n",
    "    return error"
   ]
  },
  {
   "cell_type": "markdown",
   "metadata": {},
   "source": [
    "At this point we have a way to adjust our features, as well as our single hyperparameter.  Lets\n",
    "try it out by using the same features that we have been using (bedrooms, bathrooms) but by adjusting\n",
    "the _k_ value (from 1 to 10).   "
   ]
  },
  {
   "cell_type": "code",
   "execution_count": 19,
   "metadata": {},
   "outputs": [
    {
     "name": "stdout",
     "output_type": "stream",
     "text": [
      "[20329.201369863014,\n",
      " 17650.270547945205,\n",
      " 17111.428158295283,\n",
      " 18794.740839041096,\n",
      " 18243.030136986297,\n",
      " 18430.443074581432,\n",
      " 18642.361671792005,\n",
      " 18318.549379280823,\n",
      " 17950.616979536615,\n",
      " 17786.915479452055]\n"
     ]
    }
   ],
   "source": [
    "error_values = []\n",
    "k_range = list(range(1, 11))\n",
    "for k in k_range:\n",
    "    error_values.append(test_model(features, k))\n",
    "pprint(error_values)"
   ]
  },
  {
   "cell_type": "markdown",
   "metadata": {},
   "source": [
    "While this might be a nice list... it isn't the best for us to quickly see how well our model is working\n",
    "with the different hyperparameter value, so lets try to visual the results.  "
   ]
  },
  {
   "cell_type": "code",
   "execution_count": 20,
   "metadata": {},
   "outputs": [
    {
     "data": {
      "image/png": "[encoded data removed]",
      "text/plain": [
       "<matplotlib.figure.Figure at 0x10a29ecf8>"
      ]
     },
     "metadata": {},
     "output_type": "display_data"
    }
   ],
   "source": [
    "import matplotlib.pyplot as plt\n",
    "\n",
    "plt.scatter(k_range, error_values)\n",
    "plt.show()"
   ]
  },
  {
   "cell_type": "markdown",
   "metadata": {},
   "source": [
    "Alright, so right now it looks like the data is still getting better when we get to the point of\n",
    "using `k=10`.  \n",
    "\n",
    "Lets try it with more k values, from 1 to 40 this time.  "
   ]
  },
  {
   "cell_type": "code",
   "execution_count": 21,
   "metadata": {},
   "outputs": [
    {
     "data": {
      "image/png": "[encoded data removed]",
      "text/plain": [
       "<matplotlib.figure.Figure at 0x10cc3c0f0>"
      ]
     },
     "metadata": {},
     "output_type": "display_data"
    }
   ],
   "source": [
    "error_values = []\n",
    "k_range = list(range(1, 41))\n",
    "for k in k_range:\n",
    "    error_values.append(test_model(features, k))\n",
    "\n",
    "plt.scatter(k_range, error_values)\n",
    "plt.show()"
   ]
  },
  {
   "cell_type": "markdown",
   "metadata": {},
   "source": [
    "One thing that happens often with K Nearest Neighbors as it search the hyperparameter space is that you\n",
    "can get to a low point and then start going the wrong way, so you will want to watch out for that.  \n",
    "\n",
    "Lets go ahead and create another function, one that does a k value search but allows you to use different\n",
    "features and just returns the best k value and error it sees.  "
   ]
  },
  {
   "cell_type": "code",
   "execution_count": 22,
   "metadata": {
    "collapsed": true
   },
   "outputs": [],
   "source": [
    "def k_search(features, max_k=40):\n",
    "    min_result = None\n",
    "    for k in range(1, max_k+1):\n",
    "        error = test_model(features, k)\n",
    "        if min_result is None or error < min_result[1]:\n",
    "            min_result = k, error, np.sqrt(error)\n",
    "    return min_result"
   ]
  },
  {
   "cell_type": "markdown",
   "metadata": {},
   "source": [
    "Now lets run some experiments with a few different feature sets.  \n",
    "\n",
    "* `['bathrooms', 'bedrooms']`\n",
    "* `['accomodates']`\n",
    "* `['accomodates', 'beds']`\n",
    "* `['accomodates', 'bathrooms', 'bedrooms']`\n",
    "* `['accomodates', 'beds', 'bathrooms', 'bedrooms']`"
   ]
  },
  {
   "cell_type": "code",
   "execution_count": 23,
   "metadata": {},
   "outputs": [
    {
     "name": "stdout",
     "output_type": "stream",
     "text": [
      "[(3, 17111.428158295283, 130.81065766326259),\n",
      " (11, 16495.997815011888, 128.43674635793249),\n",
      " (14, 17131.573511322335, 130.88763696897556),\n",
      " (31, 17363.811024475079, 131.77181422624142),\n",
      " (9, 16891.208997124973, 129.96618405233329)]\n"
     ]
    }
   ],
   "source": [
    "feature_sets = [\n",
    "    ['bathrooms', 'bedrooms'],\n",
    "    ['accommodates'],\n",
    "    ['accommodates', 'beds'],\n",
    "    ['accommodates', 'bathrooms', 'bedrooms'],\n",
    "    ['accommodates', 'beds', 'bathrooms', 'bedrooms'],\n",
    "]\n",
    "\n",
    "error_values = []\n",
    "for fs in feature_sets:\n",
    "    error_values.append(k_search(fs))\n",
    "    \n",
    "pprint(error_values)"
   ]
  },
  {
   "cell_type": "markdown",
   "metadata": {
    "collapsed": true
   },
   "source": [
    "---\n",
    "\n",
    "### Other Models\n",
    "\n",
    "Now this is just an example of one model, there are others that we can use as well including,\n",
    "but not limited to:  \n",
    "\n",
    "* Linear Regression\n",
    "* SVM (Support Vector Machines)\n",
    "* Random Forest\n",
    "\n",
    "With that in mind, lets quickly create a model that uses the sklearn random forest to see \n",
    "how it compares to our K Nearest Neighbor.  "
   ]
  },
  {
   "cell_type": "code",
   "execution_count": 30,
   "metadata": {},
   "outputs": [],
   "source": [
    "from sklearn.ensemble import RandomForestRegressor\n",
    "\n",
    "def forest_test(features, trees):\n",
    "    model = RandomForestRegressor(criterion='mse', n_estimators=trees)\n",
    "    model.fit(training_set[features], training_set['price'])\n",
    "    predictions = model.predict(test_set[features])\n",
    "    error = mean_squared_error(test_set['price'], predictions)\n",
    "    return error\n",
    "\n",
    "def forest_search(features, max_trees=200):\n",
    "    min_result = None\n",
    "    for t in range(10, max_trees+1, 10):\n",
    "        error = test_model(features, t)\n",
    "        if min_result is None or error < min_result[1]:\n",
    "            min_result = t, error, np.sqrt(error)\n",
    "    return min_result"
   ]
  },
  {
   "cell_type": "code",
   "execution_count": 31,
   "metadata": {},
   "outputs": [
    {
     "name": "stdout",
     "output_type": "stream",
     "text": [
      "[(10, 17786.915479452055, 133.36759531254981),\n",
      " (10, 16575.46516438356, 128.74573843193241),\n",
      " (20, 17335.7035, 131.66511876727259),\n",
      " (70, 17372.320303326811, 131.80409820383738),\n",
      " (10, 17069.930684931503, 130.65194481878754)]\n"
     ]
    }
   ],
   "source": [
    "error_values = []\n",
    "for fs in feature_sets:\n",
    "    error_values.append(forest_search(fs))\n",
    "    \n",
    "pprint(error_values)"
   ]
  },
  {
   "cell_type": "code",
   "execution_count": null,
   "metadata": {
    "collapsed": true
   },
   "outputs": [],
   "source": []
  }
 ],
 "metadata": {
  "kernelspec": {
   "display_name": "Python 3",
   "language": "python",
   "name": "python3"
  },
  "language_info": {
   "codemirror_mode": {
    "name": "ipython",
    "version": 3
   },
   "file_extension": ".py",
   "mimetype": "text/x-python",
   "name": "python",
   "nbconvert_exporter": "python",
   "pygments_lexer": "ipython3",
   "version": "3.6.1"
  }
 },
 "nbformat": 4,
 "nbformat_minor": 2
}
